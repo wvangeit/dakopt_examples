{
 "cells": [
  {
   "cell_type": "code",
   "execution_count": null,
   "id": "8a76adda-a8ea-45e3-9756-b9cef835142f",
   "metadata": {},
   "outputs": [],
   "source": [
    "pip install -q *.whl numpy matplotlib osparc_filecomms pandas"
   ]
  },
  {
   "cell_type": "code",
   "execution_count": null,
   "id": "8bfb9018-78ef-4601-857c-39274900c37e",
   "metadata": {},
   "outputs": [],
   "source": [
    "import os\n",
    "import pathlib as pl\n",
    "import json\n",
    "import zipfile\n",
    "\n",
    "from IPython.display import Markdown, display\n",
    "import matplotlib.pyplot as plt\n",
    "import matplotlib.image as mpimg\n",
    "import pandas\n",
    "\n",
    "import osparc\n",
    "import osparc_client\n",
    "import osparc_client.models.file\n",
    "\n",
    "import tools.maps\n",
    "import logging\n",
    "logger = logging.getLogger()\n",
    "logger.setLevel(logging.CRITICAL)"
   ]
  },
  {
   "cell_type": "code",
   "execution_count": null,
   "id": "e2605a1d-f182-4fda-9f45-544262567cbd",
   "metadata": {},
   "outputs": [],
   "source": [
    "osparc_cfg = osparc.Configuration(host=\"10.43.103.149.nip.io:8006\",\n",
    "                                  username=os.environ[\"OSPARC_API_KEY\"],\n",
    "                                  password=os.environ[\"OSPARC_API_SECRET\"])\n",
    "output_dir_path = pl.Path(os.environ['DY_SIDECAR_PATH_OUTPUTS'])\n",
    "output1_dir_path = output_dir_path / 'output_1'\n",
    "\n",
    "input_dir_path = pl.Path(os.environ['DY_SIDECAR_PATH_INPUTS'])\n",
    "input1_dir_path = input_dir_path / 'input_1'\n",
    "\n",
    "map_outputs_file_path = pl.Path('map_outputs.json')"
   ]
  },
  {
   "cell_type": "code",
   "execution_count": null,
   "id": "1015e967-8715-421a-8337-34602b36d9c7",
   "metadata": {},
   "outputs": [],
   "source": [
    "TEST_INPUT_FILES_DIR = 'example_r20211130-ivadomed_dataset'"
   ]
  },
  {
   "cell_type": "code",
   "execution_count": null,
   "id": "793b1e44-d92f-47e1-80a5-2aba0a7c71db",
   "metadata": {},
   "outputs": [],
   "source": [
    "input_images_dir_path = pl.Path(TEST_INPUT_FILES_DIR)\n",
    "input_images_paths = list(input_images_dir_path.glob('*.png'))\n",
    "input_metadata_paths = [path.with_suffix('.json') for path in input_images_paths]"
   ]
  },
  {
   "cell_type": "code",
   "execution_count": null,
   "id": "76e4b734-5a52-47b6-baa8-71efa40a11e2",
   "metadata": {},
   "outputs": [],
   "source": [
    "def show_input_files(file_list):\n",
    "    fig, axes = plt.subplots(1, len(file_list), figsize=(20,10))\n",
    "    for local_file_path, ax in zip(file_list, axes):\n",
    "        ax.imshow(mpimg.imread(local_file_path), cmap='gray')\n",
    "        ax.axis('off')\n",
    "    plt.tight_layout()\n",
    "    plt.show()"
   ]
  },
  {
   "cell_type": "code",
   "execution_count": null,
   "id": "b1b15b49-94e2-41ae-9d51-9f55b7eaebc0",
   "metadata": {},
   "outputs": [],
   "source": [
    "def show_output_files(map_outputs, file_list):\n",
    "    fig, axes = plt.subplots(1, len(file_list), figsize=(20,10))\n",
    " \n",
    "    for map_output, file_path, ax in zip(map_outputs, file_list, axes):\n",
    "        with zipfile.ZipFile(map_output['ProcessedImage']) as output_zip:\n",
    "            segmented_filename = f'{file_path.stem}_seg-axonmyelin{file_path.suffix}'\n",
    "            with output_zip.open(segmented_filename) as image_file:\n",
    "                ax.imshow(mpimg.imread(image_file))\n",
    "                ax.axis('off')\n",
    "                \n",
    "    plt.tight_layout()\n",
    "    plt.show()"
   ]
  },
  {
   "cell_type": "code",
   "execution_count": null,
   "id": "5f064247-f0d7-4770-b72f-e897af0eb8ba",
   "metadata": {},
   "outputs": [],
   "source": [
    "def create_map_inputs(input_file_paths, metadata_file_list):\n",
    "    map_inputs = []\n",
    "    for input_file_path, metadata_file in zip(input_file_paths, metadata_file_list):\n",
    "        metadata = json.loads(metadata_file.read_text())\n",
    "        map_inputs.append({\n",
    "            \"input\": { \n",
    "                \"InputImage\": {\n",
    "                    \"type\": \"upload_file\",\n",
    "                    \"value\": input_file_path\n",
    "                },\n",
    "                \"PixelSize\": {\n",
    "                    \"type\": \"float\",\n",
    "                    \"value\": metadata[\"PixelSize\"][0] \n",
    "                }\n",
    "            },\n",
    "            \"output\": {\n",
    "                \"Morphometrics\": {\n",
    "                  \"type\": \"file\"\n",
    "                },\n",
    "                \"ProcessedImage\": {\n",
    "                  \"type\": \"file\"\n",
    "                }\n",
    "            }\n",
    "        })\n",
    "    return map_inputs"
   ]
  },
  {
   "cell_type": "code",
   "execution_count": null,
   "id": "aed6eae2-1079-4ffd-a74a-f3fe6fc4906c",
   "metadata": {},
   "outputs": [],
   "source": [
    "display(Markdown('# Input images'))\n",
    "show_input_files(input_images_paths)"
   ]
  },
  {
   "cell_type": "code",
   "execution_count": null,
   "id": "28145e1d-b953-4b24-919c-fe3afaeb9fce",
   "metadata": {},
   "outputs": [],
   "source": [
    "map_inputs = create_map_inputs(input_images_paths, input_metadata_paths)"
   ]
  },
  {
   "cell_type": "code",
   "execution_count": null,
   "id": "12adfdeb-8395-4070-b904-8b64eed26caf",
   "metadata": {},
   "outputs": [],
   "source": [
    "map = tools.maps.oSparcFileMap(input1_dir_path/'output_tasks.json', output1_dir_path/'input_tasks.json', osparc_cfg)\n",
    "map_outputs = map.evaluate(map_inputs)\n",
    "map_outputs_file_path.write_text(json.dumps(map_outputs));"
   ]
  },
  {
   "cell_type": "code",
   "execution_count": null,
   "id": "0e770fdd-360f-4a10-9daf-4c821d3601cb",
   "metadata": {},
   "outputs": [],
   "source": [
    "map_outputs = json.loads(map_outputs_file_path.read_text())"
   ]
  },
  {
   "cell_type": "code",
   "execution_count": null,
   "id": "d2ccedae-e379-40ea-bc37-824cb1e52c92",
   "metadata": {},
   "outputs": [],
   "source": [
    "display(Markdown('# Processed Images'))\n",
    "show_output_files(map_outputs, input_images_paths)"
   ]
  },
  {
   "cell_type": "code",
   "execution_count": null,
   "id": "4a876c7a-9431-466b-94a6-1c969b436007",
   "metadata": {},
   "outputs": [],
   "source": [
    "requested_morphometrics = ['axon_diam (um)', 'axon_area (um^2)', 'myelin_thickness (um)', 'myelin_area (um^2)']"
   ]
  },
  {
   "cell_type": "code",
   "execution_count": null,
   "id": "614a3601-390a-4c4f-9e47-f0e6525b9195",
   "metadata": {},
   "outputs": [],
   "source": [
    "display(Markdown('# Output Morphometrics'))\n",
    "\n",
    "fig, axes = plt.subplots(len(requested_morphometrics)+2, len(map_outputs), squeeze=False, figsize=(20,2*len(requested_morphometrics)+2), layout=\"constrained\")\n",
    "for i_axes, (map_output, input_image_path, ax) in enumerate(zip(map_outputs, input_images_paths, axes.transpose())):\n",
    "    ax[0].imshow(mpimg.imread(input_image_path), cmap='gray')\n",
    "    ax[0].axis('off')\n",
    "    ax[0].autoscale(False)\n",
    "    \n",
    "    with zipfile.ZipFile(map_output['ProcessedImage']) as output_zip:\n",
    "        processed_filename = f'{input_image_path.stem}_seg-axonmyelin{input_image_path.suffix}'\n",
    "        with output_zip.open(processed_filename) as image_file:\n",
    "            ax[1].imshow(mpimg.imread(image_file))\n",
    "            ax[1].axis('off')\n",
    "            ax[1].autoscale(False)\n",
    "    \n",
    "    morphometrics_file = map_output['Morphometrics']\n",
    "    morphometrics = pandas.read_csv(morphometrics_file)\n",
    "    for i_ax, requested_morphometric in enumerate(requested_morphometrics, 2):\n",
    "        morphometrics.hist(column=requested_morphometric, ax=ax[i_ax])\n",
    "        if i_axes == 0:\n",
    "            ax[i_ax].set_ylabel(f'{requested_morphometric}\\nCount')\n",
    "        ax[i_ax].set_title('')\n",
    "        if 'diam' in requested_morphometric:\n",
    "            ax[i_ax].set_xlim(0,12)\n",
    "        elif 'thickness' in requested_morphometric:\n",
    "            ax[i_ax].set_xlim(0,2.5)\n",
    "        elif 'area' in requested_morphometric:\n",
    "            ax[i_ax].set_xlim(0,120)\n",
    "\n",
    "plt.show()"
   ]
  },
  {
   "cell_type": "code",
   "execution_count": null,
   "id": "575226fb-9514-4d20-a864-3973acab0b81",
   "metadata": {},
   "outputs": [],
   "source": [
    "display(Markdown('# Summary Morphometrics'))\n",
    "\n",
    "summary_data = pandas.concat([pandas.read_csv(map_output['Morphometrics']) for map_output in map_outputs], axis=0, ignore_index=True)\n",
    "\n",
    "fig, axes = plt.subplots(1, len(requested_morphometrics), sharey=True, squeeze=False, figsize=(20,7), layout=\"constrained\")\n",
    "\n",
    "for requested_morphometric, ax in zip(requested_morphometrics, axes[0]):\n",
    "    summary_data.hist(column=requested_morphometric, ax=ax)"
   ]
  },
  {
   "cell_type": "code",
   "execution_count": null,
   "id": "09369b88-dbb8-4f83-915c-43ac2fef7068",
   "metadata": {},
   "outputs": [],
   "source": []
  }
 ],
 "metadata": {
  "kernelspec": {
   "display_name": "Python 3 (ipykernel)",
   "language": "python",
   "name": "python3"
  },
  "language_info": {
   "codemirror_mode": {
    "name": "ipython",
    "version": 3
   },
   "file_extension": ".py",
   "mimetype": "text/x-python",
   "name": "python",
   "nbconvert_exporter": "python",
   "pygments_lexer": "ipython3",
   "version": "3.8.18"
  }
 },
 "nbformat": 4,
 "nbformat_minor": 5
}
